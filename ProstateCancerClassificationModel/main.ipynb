{
 "cells": [
  {
   "cell_type": "markdown",
   "metadata": {},
   "source": [
    "# PANDA Challenge: ResNet multitask 8-fold on TPU "
   ]
  },
  {
   "cell_type": "markdown",
   "metadata": {},
   "source": [
    "## Introduction"
   ]
  },
  {
   "cell_type": "markdown",
   "metadata": {},
   "source": [
    "Hello everyone! Weclome to the \"Prostate cANcer graDe Assessment (PANDA) Challenge\" competition on Kaggle! In this competition, contestants are challenged to build machine learning models to diagnose Prostate Cancer from biopsy scans (images and masks). This problem is important because fast and accurate automated diagnosis can help reduce burden on doctors and let them focus on curing patients.\n",
    "\n",
    "In this kernel, I will show how one can build a multitask model to solve this problem. I will build a ResNet-based model, which takes a biopsy scan as input and predicts two quantities: the ISUP grade and Gleason score. These are two different, bu related scales used to measure the severity of Prostate Cancer. Training a model on two different, but related tasks can improve the model's performance on both tasks. This is the magic of multitask learning!\n",
    "\n",
    "I will make use of all 8 cores on the TPU v3-8 to train an 8-fold model in less than 1 hour :D"
   ]
  }
 ],
 "metadata": {
  "kernelspec": {
   "display_name": "Python 3.8.13 ('base')",
   "language": "python",
   "name": "python3"
  },
  "language_info": {
   "name": "python",
   "version": "3.8.13"
  },
  "orig_nbformat": 4,
  "vscode": {
   "interpreter": {
    "hash": "5819c1eaf6d552792a1bbc5e8998e6c2149ab26a1973a0d78107c0d9954e5ba0"
   }
  }
 },
 "nbformat": 4,
 "nbformat_minor": 2
}
